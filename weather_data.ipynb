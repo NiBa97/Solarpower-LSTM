{
 "cells": [
  {
   "cell_type": "markdown",
   "metadata": {},
   "source": [
    "Considering the close relationship between weather and solar power, it would make sense to add those features.<br/>\n",
    "Interesting article: https://medium.com/meteostat/analyze-historical-weather-data-with-python-e188582f24ee"
   ]
  },
  {
   "cell_type": "code",
   "execution_count": 26,
   "metadata": {},
   "outputs": [],
   "source": [
    "from datetime import datetime\n",
    "import matplotlib.pyplot as plt\n",
    "from meteostat import Point, Daily\n",
    "import pandas as pd\n",
    "from pathlib import Path"
   ]
  },
  {
   "cell_type": "code",
   "execution_count": 20,
   "metadata": {},
   "outputs": [],
   "source": [
    "df = pd.read_csv(\"data.csv\")\r\n",
    "df[\"date\"] = pd.to_datetime(df[\"date\"])\r\n",
    "\r\n",
    "my_file = Path(\"weather.csv\")\r\n",
    "if my_file.is_file():\r\n",
    "    start = df[\"date\"].min()\r\n",
    "    end = df[\"date\"].max()\r\n",
    "    #Creator lices in Antwerp\r\n",
    "    location = Point(51.2, 4.4667)\r\n",
    "    data = Daily(location, start, end)\r\n",
    "    data = data.fetch()\r\n",
    "    data.to_csv(\"weather.csv\")\r\n",
    "    print(\"Data loaded and saved.\")\r\n",
    "else:\r\n",
    "    data = pd.read_csv(\"weather.csv\")\r\n",
    "    print(\"Data already loaded.\")"
   ]
  }
 ],
 "metadata": {
  "interpreter": {
   "hash": "a145704f143a95e481fb6a6107756dde8979ba8618f7999081d4774de4fc6704"
  },
  "kernelspec": {
   "display_name": "Python 3.8.7 64-bit",
   "name": "python3"
  },
  "language_info": {
   "name": "python",
   "version": ""
  },
  "orig_nbformat": 4
 },
 "nbformat": 4,
 "nbformat_minor": 2
}