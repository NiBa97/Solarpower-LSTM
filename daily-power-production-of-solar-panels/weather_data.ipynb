{
 "metadata": {
  "language_info": {
   "codemirror_mode": {
    "name": "ipython",
    "version": 3
   },
   "file_extension": ".py",
   "mimetype": "text/x-python",
   "name": "python",
   "nbconvert_exporter": "python",
   "pygments_lexer": "ipython3",
   "version": "3.8.7"
  },
  "orig_nbformat": 4,
  "kernelspec": {
   "name": "python3",
   "display_name": "Python 3.8.7 64-bit"
  },
  "interpreter": {
   "hash": "a145704f143a95e481fb6a6107756dde8979ba8618f7999081d4774de4fc6704"
  }
 },
 "nbformat": 4,
 "nbformat_minor": 2,
 "cells": [
  {
   "source": [
    "Considering the close relationship between weather and solar power, it would make sense to add those features.<br/>\n",
    "Interesting article: https://medium.com/meteostat/analyze-historical-weather-data-with-python-e188582f24ee"
   ],
   "cell_type": "markdown",
   "metadata": {}
  },
  {
   "cell_type": "code",
   "execution_count": 26,
   "metadata": {},
   "outputs": [],
   "source": [
    "from datetime import datetime\n",
    "import matplotlib.pyplot as plt\n",
    "from meteostat import Point, Daily\n",
    "import pandas as pd\n",
    "from pathlib import Path"
   ]
  },
  {
   "cell_type": "code",
   "execution_count": 20,
   "metadata": {},
   "outputs": [],
   "source": [
    "df = pd.read_csv(\"data.csv\")\n",
    "df[\"date\"] = pd.to_datetime(df[\"date\"])\n",
    "\n",
    "my_file = Path(\"weather.csv\")\n",
    "if my_file.is_file():\n",
    "    start = df[\"date\"].min()\n",
    "    end = df[\"date\"].max()\n",
    "    #Creator lices in Antwerp\n",
    "    location = Point(51.2, 4.4667)\n",
    "    data = Daily(location, start, end)\n",
    "    data = data.fetch()\n",
    "    data.to_csv(\"weather.csv\")\n",
    "    print(\"Data loaded and saved.\")\n",
    "else\n",
    "    data = pd.read_csv(\"weather.csv\")\n",
    "    print(\"Data already loaded.\")"
   ]
  }
 ]
}