{
 "cells": [
  {
   "cell_type": "code",
   "execution_count": 14,
   "metadata": {},
   "outputs": [],
   "source": [
    "import pandas as pd\r\n",
    "from sklearn.metrics import mean_squared_error\r\n",
    "from matplotlib import pyplot\r\n",
    "from keras.models import Sequential\r\n",
    "from keras.layers import Dense, LSTM\r\n",
    "from keras.preprocessing.sequence import TimeseriesGenerator\r\n",
    "from keras import callbacks\r\n",
    "import matplotlib.pyplot as plt\r\n",
    "import numpy as np\r\n",
    "#Disable GPU\r\n",
    "import os\r\n",
    "os.environ['CUDA_VISIBLE_DEVICES'] = '-1'"
   ]
  },
  {
   "cell_type": "code",
   "execution_count": 15,
   "metadata": {},
   "outputs": [],
   "source": [
    "def getData():\r\n",
    "    df = pd.read_csv(\"data/data.csv\")\r\n",
    "    df[\"date\"] = pd.to_datetime(df[\"date\"])\r\n",
    "    df.set_index(\"date\", inplace = True, drop=True)\r\n",
    "    data= df[\"Cumulative_solar_power\"].diff()\r\n",
    "    data = data[data.index > \"2012\"]\r\n",
    "    return data\r\n",
    "\r\n",
    "def getGenerator(data, n_input=3, batch_size=1):\r\n",
    "    data = np.reshape(data.values, (-1, 1))\r\n",
    "    return TimeseriesGenerator(data, data, length=n_input, batch_size=batch_size)\r\n",
    "\r\n",
    "def tryLeightweightModel(data, n_input=3, batch_size=1):\r\n",
    "    generator = getGenerator(data, n_input, batch_size)\r\n",
    "\r\n",
    "    early_stopping = callbacks.EarlyStopping(\r\n",
    "        min_delta=0.05, # minimium amount of change to count as an improvement\r\n",
    "        patience=10, # how many epochs to wait before stopping\r\n",
    "        restore_best_weights=True,\r\n",
    "    )\r\n",
    "\r\n",
    "    model = Sequential()\r\n",
    "    model.add(LSTM(64, input_shape=(n_input,1), return_sequences=True))\r\n",
    "    model.add(LSTM(32, return_sequences=True))\r\n",
    "    model.add(LSTM(16))\r\n",
    "    model.add(Dense(8))\r\n",
    "    model.add(Dense(1))\r\n",
    "    model.compile(loss='mean_squared_error', optimizer='adam')\r\n",
    "\r\n",
    "    history = model.fit(generator, epochs = 100, verbose=0, callbacks=[early_stopping])\r\n",
    "    return model, history"
   ]
  },
  {
   "cell_type": "code",
   "execution_count": null,
   "metadata": {},
   "outputs": [],
   "source": []
  },
  {
   "cell_type": "code",
   "execution_count": null,
   "metadata": {},
   "outputs": [],
   "source": [
    "model = Sequential()\r\n",
    "model.add(LSTM(128, input_shape=(n_input,1)))\r\n",
    "model.add(Dense(64))\r\n",
    "model.add(Dense(1))\r\n",
    "model.compile(loss='mean_squared_error', optimizer='adam')"
   ]
  },
  {
   "cell_type": "code",
   "execution_count": null,
   "metadata": {},
   "outputs": [],
   "source": [
    "model.summary()"
   ]
  },
  {
   "cell_type": "code",
   "execution_count": null,
   "metadata": {},
   "outputs": [],
   "source": [
    "history = model.fit(generator, epochs = 75, verbose=0)"
   ]
  },
  {
   "cell_type": "code",
   "execution_count": null,
   "metadata": {},
   "outputs": [],
   "source": [
    "history.history[\"loss\"]"
   ]
  },
  {
   "cell_type": "code",
   "execution_count": null,
   "metadata": {},
   "outputs": [],
   "source": [
    "plt.plot(history.history[\"loss\"])"
   ]
  },
  {
   "cell_type": "markdown",
   "metadata": {},
   "source": [
    "Loss value is still jumping, adding more layers and running more epochs. "
   ]
  },
  {
   "cell_type": "code",
   "execution_count": null,
   "metadata": {},
   "outputs": [],
   "source": [
    "model = Sequential()\r\n",
    "model.add(LSTM(128, input_shape=(n_input,1), return_sequences=True))\r\n",
    "model.add(LSTM(64))\r\n",
    "model.add(Dense(64))\r\n",
    "model.add(Dense(1))\r\n",
    "model.compile(loss='mean_squared_error', optimizer='adam')"
   ]
  },
  {
   "cell_type": "code",
   "execution_count": null,
   "metadata": {},
   "outputs": [],
   "source": [
    "history = model.fit(generator, epochs = 100, verbose=2)"
   ]
  },
  {
   "cell_type": "code",
   "execution_count": null,
   "metadata": {},
   "outputs": [],
   "source": [
    "plt.plot(history.history[\"loss\"])"
   ]
  },
  {
   "cell_type": "code",
   "execution_count": null,
   "metadata": {},
   "outputs": [],
   "source": [
    "#save the model \r\n",
    "model.save(\"models/lstm_128_64_e100\")"
   ]
  },
  {
   "cell_type": "markdown",
   "metadata": {},
   "source": [
    "Lets try and see how the qaulity is influenced when we lower the data amount"
   ]
  },
  {
   "cell_type": "code",
   "execution_count": null,
   "metadata": {},
   "outputs": [],
   "source": [
    "df = pd.read_csv(\"data/data.csv\")\r\n",
    "df[\"date\"] = pd.to_datetime(df[\"date\"])\r\n",
    "df.set_index(\"date\", inplace = True, drop=True)\r\n",
    "data= df[\"Cumulative_solar_power\"].diff()\r\n",
    "data = data[data.index > \"2012\"]\r\n",
    "data = data[data.index < \"2015\"]"
   ]
  },
  {
   "cell_type": "code",
   "execution_count": null,
   "metadata": {},
   "outputs": [],
   "source": [
    "\r\n",
    "data = dn = np.reshape(data.values, (-1, 1))"
   ]
  },
  {
   "cell_type": "code",
   "execution_count": null,
   "metadata": {},
   "outputs": [],
   "source": [
    "n_input  = 3\r\n",
    "generator = TimeseriesGenerator(data, data, length=n_input, batch_size=1)"
   ]
  },
  {
   "cell_type": "code",
   "execution_count": null,
   "metadata": {},
   "outputs": [],
   "source": [
    "model = Sequential()\r\n",
    "model.add(LSTM(64, input_shape=(n_input,1), return_sequences=True))\r\n",
    "model.add(LSTM(32))\r\n",
    "model.add(Dense(32))\r\n",
    "model.add(Dense(1))\r\n",
    "model.compile(loss='mean_squared_error', optimizer='adam')"
   ]
  },
  {
   "cell_type": "code",
   "execution_count": null,
   "metadata": {},
   "outputs": [],
   "source": [
    "history = model.fit(generator, epochs = 100, verbose=2)"
   ]
  },
  {
   "cell_type": "code",
   "execution_count": null,
   "metadata": {},
   "outputs": [],
   "source": [
    "plt.plot(history.history[\"loss\"])"
   ]
  },
  {
   "cell_type": "code",
   "execution_count": null,
   "metadata": {},
   "outputs": [],
   "source": [
    "model = Sequential()\r\n",
    "model.add(LSTM(64, input_shape=(n_input,1), return_sequences=True))\r\n",
    "model.add(LSTM(32, return_sequences=True))\r\n",
    "model.add(LSTM(16))\r\n",
    "model.add(Dense(8))\r\n",
    "model.add(Dense(1))\r\n",
    "model.compile(loss='mean_squared_error', optimizer='adam')\r\n",
    "history = model.fit(generator, epochs = 100, verbose=2)\r\n",
    "plt.plot(history.history[\"loss\"])"
   ]
  },
  {
   "cell_type": "code",
   "execution_count": 16,
   "metadata": {},
   "outputs": [],
   "source": [
    "df = getData()"
   ]
  },
  {
   "cell_type": "code",
   "execution_count": 17,
   "metadata": {},
   "outputs": [],
   "source": [
    "#Baseline\r\n",
    "model, hist = tryLeightweightModel(df)\r\n"
   ]
  },
  {
   "cell_type": "code",
   "execution_count": 28,
   "metadata": {},
   "outputs": [
    {
     "name": "stdout",
     "output_type": "stream",
     "text": [
      "[23.656450271606445, 23.372325897216797, 23.42458724975586, 23.431867599487305, 23.245601654052734]\n"
     ]
    },
    {
     "data": {
      "image/png": "[encoded data removed]",
      "text/plain": [
       "<Figure size 432x288 with 1 Axes>"
      ]
     },
     "metadata": {
      "needs_background": "light"
     },
     "output_type": "display_data"
    }
   ],
   "source": [
    "plt.plot(hist.history[\"loss\"])\r\n",
    "print(hist.history[\"loss\"][-5:])"
   ]
  },
  {
   "cell_type": "code",
   "execution_count": 37,
   "metadata": {},
   "outputs": [
    {
     "data": {
      "text/plain": [
       "array([[0.8],\n",
       "       [2.9],\n",
       "       [0.8],\n",
       "       ...,\n",
       "       [8. ],\n",
       "       [5. ],\n",
       "       [3. ]])"
      ]
     },
     "execution_count": 37,
     "metadata": {},
     "output_type": "execute_result"
    }
   ],
   "source": [
    "df.values.reshape(-1, 1) "
   ]
  },
  {
   "cell_type": "code",
   "execution_count": 41,
   "metadata": {},
   "outputs": [],
   "source": [
    "from sklearn.preprocessing import MinMaxScaler\r\n",
    "scaler = MinMaxScaler(feature_range=(-1,1))\r\n",
    "scaled_data = scaler.fit_transform(df.values.reshape(-1, 1) )"
   ]
  },
  {
   "cell_type": "code",
   "execution_count": 42,
   "metadata": {},
   "outputs": [
    {
     "name": "stdout",
     "output_type": "stream",
     "text": [
      "[23.816740036010742, 23.783838272094727, 23.706764221191406, 23.856117248535156, 23.781017303466797]\n"
     ]
    },
    {
     "data": {
      "image/png": "[encoded data removed]",
      "text/plain": [
       "<Figure size 432x288 with 1 Axes>"
      ]
     },
     "metadata": {
      "needs_background": "light"
     },
     "output_type": "display_data"
    }
   ],
   "source": [
    "#Baseline\r\n",
    "model, hist = tryLeightweightModel(df, batch_size=16)\r\n",
    "plt.plot(hist.history[\"loss\"])\r\n",
    "print(hist.history[\"loss\"][-5:])"
   ]
  },
  {
   "cell_type": "code",
   "execution_count": 43,
   "metadata": {},
   "outputs": [
    {
     "name": "stdout",
     "output_type": "stream",
     "text": [
      "[23.46689224243164, 23.581405639648438, 23.487699508666992, 23.442554473876953, 23.52366065979004]\n"
     ]
    },
    {
     "data": {
      "image/png": "[encoded data removed]",
      "text/plain": [
       "<Figure size 432x288 with 1 Axes>"
      ]
     },
     "metadata": {
      "needs_background": "light"
     },
     "output_type": "display_data"
    }
   ],
   "source": [
    "#Baseline\r\n",
    "model, hist = tryLeightweightModel(df, batch_size=4)\r\n",
    "plt.plot(hist.history[\"loss\"])\r\n",
    "print(hist.history[\"loss\"][-5:])"
   ]
  },
  {
   "cell_type": "code",
   "execution_count": 44,
   "metadata": {},
   "outputs": [
    {
     "name": "stdout",
     "output_type": "stream",
     "text": [
      "[23.338289260864258, 23.371122360229492, 23.25519561767578, 23.28557777404785, 23.24698829650879]\n"
     ]
    },
    {
     "data": {
      "image/png": "[encoded data removed]",
      "text/plain": [
       "<Figure size 432x288 with 1 Axes>"
      ]
     },
     "metadata": {
      "needs_background": "light"
     },
     "output_type": "display_data"
    }
   ],
   "source": [
    "#Baseline\r\n",
    "model, hist = tryLeightweightModel(df, batch_size=2)\r\n",
    "plt.plot(hist.history[\"loss\"])\r\n",
    "print(hist.history[\"loss\"][-5:])"
   ]
  },
  {
   "cell_type": "code",
   "execution_count": null,
   "metadata": {},
   "outputs": [],
   "source": []
  }
 ],
 "metadata": {
  "interpreter": {
   "hash": "a145704f143a95e481fb6a6107756dde8979ba8618f7999081d4774de4fc6704"
  },
  "kernelspec": {
   "display_name": "Python 3.8.7 64-bit",
   "name": "python3"
  },
  "language_info": {
   "codemirror_mode": {
    "name": "ipython",
    "version": 3
   },
   "file_extension": ".py",
   "mimetype": "text/x-python",
   "name": "python",
   "nbconvert_exporter": "python",
   "pygments_lexer": "ipython3",
   "version": "3.8.7"
  },
  "orig_nbformat": 4
 },
 "nbformat": 4,
 "nbformat_minor": 2
}