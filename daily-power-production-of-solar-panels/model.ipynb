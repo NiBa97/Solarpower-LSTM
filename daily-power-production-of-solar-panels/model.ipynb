{
 "cells": [
  {
   "cell_type": "code",
   "execution_count": 1,
   "metadata": {},
   "outputs": [],
   "source": [
    "import pandas as pd\r\n",
    "from sklearn.metrics import mean_squared_error\r\n",
    "from matplotlib import pyplot\r\n",
    "from keras.models import Sequential\r\n",
    "from keras.layers import Dense, Flatten\r\n",
    "from keras.preprocessing.sequence import TimeseriesGenerator\r\n",
    "from keras.layers import LSTM\r\n",
    "import matplotlib.pyplot as plt\r\n",
    "import numpy as np\r\n",
    "#Disable GPU\r\n",
    "import os\r\n",
    "os.environ['CUDA_VISIBLE_DEVICES'] = '-1'"
   ]
  },
  {
   "cell_type": "code",
   "execution_count": 2,
   "metadata": {},
   "outputs": [],
   "source": [
    "df = pd.read_csv(\"data.csv\")\r\n",
    "df[\"date\"] = pd.to_datetime(df[\"date\"])\r\n",
    "df.set_index(\"date\", inplace = True, drop=True)"
   ]
  },
  {
   "cell_type": "code",
   "execution_count": 3,
   "metadata": {},
   "outputs": [],
   "source": [
    "data= df[\"Cumulative_solar_power\"].diff()\r\n",
    "data = data[data.index > \"2012\"]\r\n",
    "data = dn = np.reshape(data.values, (-1, 1))"
   ]
  },
  {
   "cell_type": "code",
   "execution_count": 4,
   "metadata": {},
   "outputs": [],
   "source": [
    "n_input  = 3\r\n",
    "generator = TimeseriesGenerator(data, data, length=n_input, batch_size=1)"
   ]
  },
  {
   "cell_type": "code",
   "execution_count": 15,
   "metadata": {},
   "outputs": [],
   "source": [
    "model = Sequential()\r\n",
    "model.add(LSTM(128, input_shape=(n_input,1)))\r\n",
    "model.add(Dense(64))\r\n",
    "model.add(Dense(1))\r\n",
    "model.compile(loss='mean_squared_error', optimizer='adam')"
   ]
  },
  {
   "cell_type": "code",
   "execution_count": 16,
   "metadata": {},
   "outputs": [
    {
     "name": "stdout",
     "output_type": "stream",
     "text": [
      "Model: \"sequential_1\"\n",
      "_________________________________________________________________\n",
      "Layer (type)                 Output Shape              Param #   \n",
      "=================================================================\n",
      "lstm_1 (LSTM)                (None, 128)               66560     \n",
      "_________________________________________________________________\n",
      "dense_2 (Dense)              (None, 64)                8256      \n",
      "_________________________________________________________________\n",
      "dense_3 (Dense)              (None, 1)                 65        \n",
      "=================================================================\n",
      "Total params: 74,881\n",
      "Trainable params: 74,881\n",
      "Non-trainable params: 0\n",
      "_________________________________________________________________\n"
     ]
    }
   ],
   "source": [
    "model.summary()"
   ]
  },
  {
   "cell_type": "code",
   "execution_count": 17,
   "metadata": {},
   "outputs": [
    {
     "name": "stdout",
     "output_type": "stream",
     "text": [
      "Epoch 1/75\n",
      "3233/3233 [==============================] - 6s 1ms/step - loss: 29.9925\n",
      "Epoch 2/75\n",
      "3233/3233 [==============================] - 5s 2ms/step - loss: 24.8280\n",
      "Epoch 3/75\n",
      "3233/3233 [==============================] - 5s 1ms/step - loss: 26.8789\n",
      "Epoch 4/75\n",
      "3233/3233 [==============================] - 5s 1ms/step - loss: 25.3376\n",
      "Epoch 5/75\n",
      "3233/3233 [==============================] - 5s 1ms/step - loss: 24.5661\n",
      "Epoch 6/75\n",
      "3233/3233 [==============================] - 5s 2ms/step - loss: 24.6156\n",
      "Epoch 7/75\n",
      "3233/3233 [==============================] - 5s 2ms/step - loss: 24.4897\n",
      "Epoch 8/75\n",
      "3233/3233 [==============================] - 5s 2ms/step - loss: 25.6949\n",
      "Epoch 9/75\n",
      "3233/3233 [==============================] - 5s 2ms/step - loss: 25.8240\n",
      "Epoch 10/75\n",
      "3233/3233 [==============================] - 5s 2ms/step - loss: 25.2417\n",
      "Epoch 11/75\n",
      "3233/3233 [==============================] - 5s 2ms/step - loss: 25.0995\n",
      "Epoch 12/75\n",
      "3233/3233 [==============================] - 5s 2ms/step - loss: 25.3700\n",
      "Epoch 13/75\n",
      "3233/3233 [==============================] - 5s 1ms/step - loss: 24.9103\n",
      "Epoch 14/75\n",
      "3233/3233 [==============================] - 5s 1ms/step - loss: 24.0801\n",
      "Epoch 15/75\n",
      "3233/3233 [==============================] - 5s 1ms/step - loss: 24.6647\n",
      "Epoch 16/75\n",
      "3233/3233 [==============================] - 5s 1ms/step - loss: 25.4252\n",
      "Epoch 17/75\n",
      "3233/3233 [==============================] - 5s 2ms/step - loss: 24.0996\n",
      "Epoch 18/75\n",
      "3233/3233 [==============================] - 5s 2ms/step - loss: 24.4587\n",
      "Epoch 19/75\n",
      "3233/3233 [==============================] - 5s 2ms/step - loss: 23.9966\n",
      "Epoch 20/75\n",
      "3233/3233 [==============================] - 5s 1ms/step - loss: 23.9294\n",
      "Epoch 21/75\n",
      "3233/3233 [==============================] - 5s 2ms/step - loss: 25.6651\n",
      "Epoch 22/75\n",
      "3233/3233 [==============================] - 5s 2ms/step - loss: 24.7454\n",
      "Epoch 23/75\n",
      "3233/3233 [==============================] - 5s 2ms/step - loss: 23.7160\n",
      "Epoch 24/75\n",
      "3233/3233 [==============================] - 5s 2ms/step - loss: 24.8152\n",
      "Epoch 25/75\n",
      "3233/3233 [==============================] - 5s 2ms/step - loss: 23.2137\n",
      "Epoch 26/75\n",
      "3233/3233 [==============================] - 5s 2ms/step - loss: 24.0795\n",
      "Epoch 27/75\n",
      "3233/3233 [==============================] - 5s 2ms/step - loss: 24.6299\n",
      "Epoch 28/75\n",
      "3233/3233 [==============================] - 5s 2ms/step - loss: 23.9543\n",
      "Epoch 29/75\n",
      "3233/3233 [==============================] - 5s 2ms/step - loss: 25.1850\n",
      "Epoch 30/75\n",
      "3233/3233 [==============================] - 5s 1ms/step - loss: 24.6684\n",
      "Epoch 31/75\n",
      "3233/3233 [==============================] - 5s 1ms/step - loss: 23.2300\n",
      "Epoch 32/75\n",
      "3233/3233 [==============================] - 5s 2ms/step - loss: 24.5498\n",
      "Epoch 33/75\n",
      "3233/3233 [==============================] - 5s 1ms/step - loss: 23.5260\n",
      "Epoch 34/75\n",
      "3233/3233 [==============================] - 5s 1ms/step - loss: 24.0453\n",
      "Epoch 35/75\n",
      "3233/3233 [==============================] - 5s 1ms/step - loss: 22.8179\n",
      "Epoch 36/75\n",
      "3233/3233 [==============================] - 5s 2ms/step - loss: 23.4166\n",
      "Epoch 37/75\n",
      "3233/3233 [==============================] - 5s 2ms/step - loss: 21.5955\n",
      "Epoch 38/75\n",
      "3233/3233 [==============================] - 5s 1ms/step - loss: 24.3881\n",
      "Epoch 39/75\n",
      "3233/3233 [==============================] - 5s 2ms/step - loss: 24.3013\n",
      "Epoch 40/75\n",
      "3233/3233 [==============================] - 5s 1ms/step - loss: 24.6798\n",
      "Epoch 41/75\n",
      "3233/3233 [==============================] - 5s 1ms/step - loss: 23.6863\n",
      "Epoch 42/75\n",
      "3233/3233 [==============================] - 5s 1ms/step - loss: 23.9511\n",
      "Epoch 43/75\n",
      "3233/3233 [==============================] - 5s 1ms/step - loss: 23.4050\n",
      "Epoch 44/75\n",
      "3233/3233 [==============================] - 5s 1ms/step - loss: 24.3357\n",
      "Epoch 45/75\n",
      "3233/3233 [==============================] - 5s 2ms/step - loss: 23.5417\n",
      "Epoch 46/75\n",
      "3233/3233 [==============================] - 5s 1ms/step - loss: 24.3617\n",
      "Epoch 47/75\n",
      "3233/3233 [==============================] - 5s 1ms/step - loss: 23.6071\n",
      "Epoch 48/75\n",
      "3233/3233 [==============================] - 5s 1ms/step - loss: 24.6400\n",
      "Epoch 49/75\n",
      "3233/3233 [==============================] - 5s 1ms/step - loss: 24.1268\n",
      "Epoch 50/75\n",
      "3233/3233 [==============================] - 5s 1ms/step - loss: 24.0566\n",
      "Epoch 51/75\n",
      "3233/3233 [==============================] - 5s 1ms/step - loss: 24.2336\n",
      "Epoch 52/75\n",
      "3233/3233 [==============================] - 5s 1ms/step - loss: 23.6598\n",
      "Epoch 53/75\n",
      "3233/3233 [==============================] - 5s 1ms/step - loss: 23.6415\n",
      "Epoch 54/75\n",
      "3233/3233 [==============================] - 5s 1ms/step - loss: 24.4361\n",
      "Epoch 55/75\n",
      "3233/3233 [==============================] - 5s 1ms/step - loss: 23.2734\n",
      "Epoch 56/75\n",
      "3233/3233 [==============================] - 5s 1ms/step - loss: 22.9375\n",
      "Epoch 57/75\n",
      "3233/3233 [==============================] - 5s 2ms/step - loss: 24.1075\n",
      "Epoch 58/75\n",
      "3233/3233 [==============================] - 5s 2ms/step - loss: 24.2567\n",
      "Epoch 59/75\n",
      "3233/3233 [==============================] - 5s 2ms/step - loss: 24.0221\n",
      "Epoch 60/75\n",
      "3233/3233 [==============================] - 5s 2ms/step - loss: 23.4516\n",
      "Epoch 61/75\n",
      "3233/3233 [==============================] - 5s 2ms/step - loss: 23.9706\n",
      "Epoch 62/75\n",
      "3233/3233 [==============================] - 5s 2ms/step - loss: 22.2231\n",
      "Epoch 63/75\n",
      "3233/3233 [==============================] - 5s 2ms/step - loss: 23.3152\n",
      "Epoch 64/75\n",
      "3233/3233 [==============================] - 5s 2ms/step - loss: 24.3611\n",
      "Epoch 65/75\n",
      "3233/3233 [==============================] - 5s 2ms/step - loss: 23.3405\n",
      "Epoch 66/75\n",
      "3233/3233 [==============================] - 5s 2ms/step - loss: 22.9954\n",
      "Epoch 67/75\n",
      "3233/3233 [==============================] - 5s 2ms/step - loss: 23.3777\n",
      "Epoch 68/75\n",
      "3233/3233 [==============================] - 5s 2ms/step - loss: 22.1615\n",
      "Epoch 69/75\n",
      "3233/3233 [==============================] - 5s 2ms/step - loss: 23.9262\n",
      "Epoch 70/75\n",
      "3233/3233 [==============================] - 5s 2ms/step - loss: 23.3178\n",
      "Epoch 71/75\n",
      "3233/3233 [==============================] - 5s 1ms/step - loss: 23.3133\n",
      "Epoch 72/75\n",
      "3233/3233 [==============================] - 5s 1ms/step - loss: 23.3495\n",
      "Epoch 73/75\n",
      "3233/3233 [==============================] - 5s 2ms/step - loss: 23.2128\n",
      "Epoch 74/75\n",
      "3233/3233 [==============================] - 5s 2ms/step - loss: 23.0239\n",
      "Epoch 75/75\n",
      "3233/3233 [==============================] - 5s 2ms/step - loss: 23.2725\n"
     ]
    }
   ],
   "source": [
    "history = model.fit(generator, epochs = 75, verbose=1)"
   ]
  },
  {
   "cell_type": "code",
   "execution_count": 18,
   "metadata": {},
   "outputs": [
    {
     "data": {
      "text/plain": [
       "[27.800987243652344,\n",
       " 25.964405059814453,\n",
       " 25.690349578857422,\n",
       " 25.413846969604492,\n",
       " 25.441434860229492,\n",
       " 25.227994918823242,\n",
       " 25.113367080688477,\n",
       " 24.763229370117188,\n",
       " 25.034650802612305,\n",
       " 25.131072998046875,\n",
       " 24.689714431762695,\n",
       " 25.082738876342773,\n",
       " 24.8690242767334,\n",
       " 24.616985321044922,\n",
       " 24.73719024658203,\n",
       " 24.6811466217041,\n",
       " 24.729320526123047,\n",
       " 24.66241455078125,\n",
       " 24.57948875427246,\n",
       " 24.570043563842773,\n",
       " 24.57377815246582,\n",
       " 24.709226608276367,\n",
       " 24.504291534423828,\n",
       " 24.305866241455078,\n",
       " 24.416296005249023,\n",
       " 24.225637435913086,\n",
       " 24.46217155456543,\n",
       " 24.43552589416504,\n",
       " 24.184375762939453,\n",
       " 24.358243942260742,\n",
       " 24.287403106689453,\n",
       " 24.293649673461914,\n",
       " 24.227439880371094,\n",
       " 24.182111740112305,\n",
       " 24.261795043945312,\n",
       " 24.19865608215332,\n",
       " 24.17484474182129,\n",
       " 23.988740921020508,\n",
       " 24.14134979248047,\n",
       " 24.06600570678711,\n",
       " 24.00432014465332,\n",
       " 24.200740814208984,\n",
       " 24.06810188293457,\n",
       " 24.076751708984375,\n",
       " 23.93145179748535,\n",
       " 24.052642822265625,\n",
       " 24.135574340820312,\n",
       " 23.984960556030273,\n",
       " 24.03639793395996,\n",
       " 23.915695190429688,\n",
       " 23.980382919311523,\n",
       " 23.937732696533203,\n",
       " 23.915395736694336,\n",
       " 23.817779541015625,\n",
       " 23.741592407226562,\n",
       " 23.68083381652832,\n",
       " 23.68155860900879,\n",
       " 23.70189094543457,\n",
       " 23.71139907836914,\n",
       " 23.478239059448242,\n",
       " 23.815277099609375,\n",
       " 23.702533721923828,\n",
       " 23.695505142211914,\n",
       " 23.668352127075195,\n",
       " 23.54544448852539,\n",
       " 23.59488868713379,\n",
       " 23.536823272705078,\n",
       " 23.570377349853516,\n",
       " 23.57667350769043,\n",
       " 23.545053482055664,\n",
       " 23.634035110473633,\n",
       " 23.555246353149414,\n",
       " 23.388957977294922,\n",
       " 23.493989944458008,\n",
       " 23.572757720947266]"
      ]
     },
     "execution_count": 18,
     "metadata": {},
     "output_type": "execute_result"
    }
   ],
   "source": [
    "history.history[\"loss\"]"
   ]
  },
  {
   "cell_type": "code",
   "execution_count": 19,
   "metadata": {},
   "outputs": [
    {
     "data": {
      "text/plain": [
       "[<matplotlib.lines.Line2D at 0x1818ea36880>]"
      ]
     },
     "execution_count": 19,
     "metadata": {},
     "output_type": "execute_result"
    },
    {
     "data": {
      "image/png": "[encoded data removed]",
      "text/plain": [
       "<Figure size 432x288 with 1 Axes>"
      ]
     },
     "metadata": {
      "needs_background": "light"
     },
     "output_type": "display_data"
    }
   ],
   "source": [
    "plt.plot(history.history[\"loss\"])"
   ]
  },
  {
   "cell_type": "code",
   "execution_count": null,
   "metadata": {},
   "outputs": [],
   "source": []
  }
 ],
 "metadata": {
  "interpreter": {
   "hash": "a145704f143a95e481fb6a6107756dde8979ba8618f7999081d4774de4fc6704"
  },
  "kernelspec": {
   "display_name": "Python 3.8.7 64-bit",
   "name": "python3"
  },
  "language_info": {
   "codemirror_mode": {
    "name": "ipython",
    "version": 3
   },
   "file_extension": ".py",
   "mimetype": "text/x-python",
   "name": "python",
   "nbconvert_exporter": "python",
   "pygments_lexer": "ipython3",
   "version": "3.8.7"
  },
  "orig_nbformat": 4
 },
 "nbformat": 4,
 "nbformat_minor": 2
}